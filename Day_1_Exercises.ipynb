{
  "nbformat": 4,
  "nbformat_minor": 0,
  "metadata": {
    "colab": {
      "name": "Day 1 Exercises.ipynb",
      "provenance": [],
      "collapsed_sections": [],
      "authorship_tag": "ABX9TyPvKYFjaFVGK/lbQG8wr0nR",
      "include_colab_link": true
    },
    "kernelspec": {
      "name": "python3",
      "display_name": "Python 3"
    }
  },
  "cells": [
    {
      "cell_type": "markdown",
      "metadata": {
        "id": "view-in-github",
        "colab_type": "text"
      },
      "source": [
        "<a href=\"https://colab.research.google.com/github/alvas-education-foundation/KUSHI-COURSES/blob/master/Day_1_Exercises.ipynb\" target=\"_parent\"><img src=\"https://colab.research.google.com/assets/colab-badge.svg\" alt=\"Open In Colab\"/></a>"
      ]
    },
    {
      "cell_type": "code",
      "metadata": {
        "id": "2ajNdrnryWua",
        "colab_type": "code",
        "colab": {
          "base_uri": "https://localhost:8080/",
          "height": 85
        },
        "outputId": "c392702c-9a04-495c-d26d-24f94da61e92"
      },
      "source": [
        "#1.\tFind the compound interest for the given p,n,r  (formula : p(1+n*r/100)n )\n",
        "def compound_interest(principle, rate, time):\n",
        "   CI = principle * (pow((1 + rate / 100), time))\n",
        "   print(\"Compound interest : \", CI)\n",
        "# main\n",
        "p = int(input(\"Enter the Principle : \"))\n",
        "r = float(input(\"Enter the Rate of Interest : \"))\n",
        "t = int(input(\"Enter the Time : \"))\n",
        "compound_interest(p, r, t)"
      ],
      "execution_count": 1,
      "outputs": [
        {
          "output_type": "stream",
          "text": [
            "Enter the Principle : 2500\n",
            "Enter the Rate of Interest : 5\n",
            "Enter the Time : 3\n",
            "Compound interest :  2894.0625000000005\n"
          ],
          "name": "stdout"
        }
      ]
    },
    {
      "cell_type": "code",
      "metadata": {
        "id": "A6IoQtAUyx2w",
        "colab_type": "code",
        "colab": {
          "base_uri": "https://localhost:8080/",
          "height": 51
        },
        "outputId": "49214876-16ad-48df-9ef3-3ec973f4cec5"
      },
      "source": [
        "#2.\tConvert centegrade to farenheit  ( f= 9/5*c+32)\n",
        "celsius = float(input(\"Enter temperature in celsius: \"))\n",
        "fahrenheit = (celsius * 9/5) + 32\n",
        "print('%.2f Celsius is: %0.2f Fahrenheit' %(celsius, fahrenheit))"
      ],
      "execution_count": 2,
      "outputs": [
        {
          "output_type": "stream",
          "text": [
            "Enter temperature in celsius: 65\n",
            "65.00 Celsius is: 149.00 Fahrenheit\n"
          ],
          "name": "stdout"
        }
      ]
    },
    {
      "cell_type": "code",
      "metadata": {
        "id": "ROC0is8Ry5HG",
        "colab_type": "code",
        "colab": {
          "base_uri": "https://localhost:8080/",
          "height": 68
        },
        "outputId": "ed427c98-0f31-463e-d219-30307cf24dbc"
      },
      "source": [
        "#3.\tFind the greater of two nos \n",
        "a = int(input('Enter first number: '))\n",
        "b = int(input('Enter second number: '))\n",
        "if a>b:\n",
        "\tprint('{0} is greater than {1}'.format(a,b))\n",
        "elif b>a:\n",
        "\tprint(\"{0} is greater than {1}\".format(b,a))\n",
        "else:\n",
        "  print(\"Both the numbers are equal\")"
      ],
      "execution_count": 3,
      "outputs": [
        {
          "output_type": "stream",
          "text": [
            "Enter first number: 4\n",
            "Enter second number: 5\n",
            "5 is greater than 4\n"
          ],
          "name": "stdout"
        }
      ]
    },
    {
      "cell_type": "code",
      "metadata": {
        "id": "5C2wxN7LzAv9",
        "colab_type": "code",
        "colab": {
          "base_uri": "https://localhost:8080/",
          "height": 51
        },
        "outputId": "fb19327d-49ea-4304-de2d-42c9ade5396e"
      },
      "source": [
        "# 4.\tWrite a program for finding surface areas of cylinder and cone (2*PI*r*r*h, 1/3*PI*r*r*h) using function.\n",
        "\n",
        "# Importing Math library for value Of PI \n",
        "import math \n",
        "pi = math.pi \n",
        "  \n",
        "# Function to calculate Volume of Cone \n",
        "def volume(r, h): \n",
        "    return (1 / 3) * pi * r * r * h \n",
        "  \n",
        "# Function To Calculate Surface Area of Cone \n",
        "def surfacearea(r, s): \n",
        "    return pi * r * s + pi * r * r \n",
        "  \n",
        "# Driver Code \n",
        "radius = float(5) \n",
        "height = float(12) \n",
        "slat_height = float(13) \n",
        "print( \"Volume Of Cone : \", volume(radius, height) ) \n",
        "print( \"Surface Area Of Cone : \", surfacearea(radius, slat_height) ) "
      ],
      "execution_count": 9,
      "outputs": [
        {
          "output_type": "stream",
          "text": [
            "Volume Of Cone :  314.15926535897927\n",
            "Surface Area Of Cone :  282.7433388230814\n"
          ],
          "name": "stdout"
        }
      ]
    },
    {
      "cell_type": "code",
      "metadata": {
        "id": "eCCLmVLP0c-r",
        "colab_type": "code",
        "colab": {
          "base_uri": "https://localhost:8080/",
          "height": 102
        },
        "outputId": "ea1b004f-0c0c-46af-8e82-346b4de506fa"
      },
      "source": [
        "#5.\tFind the greatest of four nos ( using ‘and’ operator)   using function.\n",
        "n1 = input(\"Enter the first number \")\n",
        "n2 = input(\"Enter the second number \")\n",
        "n3 = input(\"Enter the third number \")\n",
        "n4 = input(\"Enter the fourth number \")\n",
        "  \n",
        "mx = (n1 if (n1 > n2 and n1 > n2 and n1 > n4)  \n",
        "         else (n2 if (n2 > n3 and n3 > n4)  \n",
        "         else (n3 if n3 > n4 else n4))) \n",
        "  \n",
        "# str() function is used to convert  \n",
        "# integer to string, it is required  \n",
        "# as we are concatenating integers \n",
        "# with string \n",
        "print(\"Largest number among \" + str(n1) + \", \" + \n",
        "            str(n2) + \", \" + str(n3) + \" and \" + \n",
        "            str(n4) + \" is \" + str(mx))"
      ],
      "execution_count": 6,
      "outputs": [
        {
          "output_type": "stream",
          "text": [
            "Enter the first number 2\n",
            "Enter the second number 4\n",
            "Enter the third number 6\n",
            "Enter the fourth number 5\n",
            "Largest number among 2, 4, 6 and 5 is 6\n"
          ],
          "name": "stdout"
        }
      ]
    },
    {
      "cell_type": "code",
      "metadata": {
        "id": "LQd7Ma__0sSl",
        "colab_type": "code",
        "colab": {
          "base_uri": "https://localhost:8080/",
          "height": 1000
        },
        "outputId": "ccbb26e0-d196-44ff-a98c-fc34fa8c915a"
      },
      "source": [
        "#6.\tWrite a  menu program to perform the operations ( ODDorEven, Factorial, ODDNoUptoN, PrimeUptoN ) using functions for two nos with  menu choice\n",
        "loop = 1 # 1 means loop; anything else means don't loop.\n",
        "choice = 0 # This variable holds the user's choice in the menu\n",
        "\n",
        "def oddoreven():\n",
        "    num = int(input(\"Enter a number: \"))\n",
        "    if (num % 2) == 0:\n",
        "      print(\"{0} is Even\".format(num))\n",
        "    else:\n",
        "      print(\"{0} is Odd\".format(num)) \n",
        "\n",
        "\n",
        "def factorial():\n",
        "  num = int(input(\"enter the number\"))\n",
        "  factorial = 1\n",
        "  if num < 0:\n",
        "    print(\"Sorry, factorial does not exist for negative numbers\")\n",
        "  elif num == 0:\n",
        "    print(\"The factorial of 0 is 1\")\n",
        "  else:\n",
        "    for i in range(1,num + 1):\n",
        "      factorial = factorial*i\n",
        "      print(\"The factorial of\",num,\"is\",factorial)\n",
        "\n",
        "\n",
        "def oddtilln():\n",
        "    maximum = int(input(\" Please Enter any Maximum Value : \"))\n",
        "    for number in range(1, maximum + 1):\n",
        "     if(number % 2 != 0):\n",
        "        print(\"{0}\".format(number))\n",
        "\n",
        "\n",
        "def primetilln():\n",
        "    upto = int(input(\"Find prime numbers upto : \"))\n",
        "    print(\"\\nAll prime numbers upto\", upto, \"are : \")\n",
        "    for num in range(2, upto + 1):\n",
        "      i = 2\n",
        "      for i in range(2, num):\n",
        "        if(num % i == 0):\n",
        "            i = num\n",
        "            break;\n",
        "    if(i != num):\n",
        "        print(num, end=\" \")\n",
        "\n",
        "while loop == 1:\n",
        "    # Print what options you have\n",
        "    print (\"Welcome to math program\")\n",
        "    print (\"your options are:\")\n",
        "    print (\" \")\n",
        "    print(\"1) ODD or Even\")\n",
        "    print(\"2) Factorial\")\n",
        "    print(\"3) Odd number upto n \")\n",
        "    print(\"4) Prime number upto n \")\n",
        "    print(\"5) Quit the program\")\n",
        "    print(\" \")\n",
        "    try:\n",
        "        choice = int(input(\"Choose your option: \"))\n",
        "    except:\n",
        "        print('please enter a valid number for option')\n",
        "    print(\" \")\n",
        "    print(\" \")\n",
        "    if choice == 1:\n",
        "        oddoreven()\n",
        "\n",
        "    elif choice == 2:\n",
        "        factorial() \n",
        "  \n",
        "    elif choice == 3:\n",
        "        oddtilln()\n",
        "\n",
        "    elif choice == 4:\n",
        "         primetilln()\n",
        "        \n",
        "    elif choice == 5:\n",
        "        loop = 0\n",
        "     \n",
        "    else:\n",
        "        print(\"please choice a valid option from 1 to 5\")\n",
        "        choice=0\n",
        "print (\"Thank-you for using math program\")"
      ],
      "execution_count": 7,
      "outputs": [
        {
          "output_type": "stream",
          "text": [
            "Welcome to math program\n",
            "your options are:\n",
            " \n",
            "1) ODD or Even\n",
            "2) Factorial\n",
            "3) Odd number upto n \n",
            "4) Prime number upto n \n",
            "5) Quit the program\n",
            " \n",
            "Choose your option: 1\n",
            " \n",
            " \n",
            "Enter a number: 2\n",
            "2 is Even\n",
            "Welcome to math program\n",
            "your options are:\n",
            " \n",
            "1) ODD or Even\n",
            "2) Factorial\n",
            "3) Odd number upto n \n",
            "4) Prime number upto n \n",
            "5) Quit the program\n",
            " \n",
            "Choose your option: 2\n",
            " \n",
            " \n",
            "enter the number3\n",
            "The factorial of 3 is 1\n",
            "The factorial of 3 is 2\n",
            "The factorial of 3 is 6\n",
            "Welcome to math program\n",
            "your options are:\n",
            " \n",
            "1) ODD or Even\n",
            "2) Factorial\n",
            "3) Odd number upto n \n",
            "4) Prime number upto n \n",
            "5) Quit the program\n",
            " \n",
            "Choose your option: 3\n",
            " \n",
            " \n",
            " Please Enter any Maximum Value : 99\n",
            "1\n",
            "3\n",
            "5\n",
            "7\n",
            "9\n",
            "11\n",
            "13\n",
            "15\n",
            "17\n",
            "19\n",
            "21\n",
            "23\n",
            "25\n",
            "27\n",
            "29\n",
            "31\n",
            "33\n",
            "35\n",
            "37\n",
            "39\n",
            "41\n",
            "43\n",
            "45\n",
            "47\n",
            "49\n",
            "51\n",
            "53\n",
            "55\n",
            "57\n",
            "59\n",
            "61\n",
            "63\n",
            "65\n",
            "67\n",
            "69\n",
            "71\n",
            "73\n",
            "75\n",
            "77\n",
            "79\n",
            "81\n",
            "83\n",
            "85\n",
            "87\n",
            "89\n",
            "91\n",
            "93\n",
            "95\n",
            "97\n",
            "99\n",
            "Welcome to math program\n",
            "your options are:\n",
            " \n",
            "1) ODD or Even\n",
            "2) Factorial\n",
            "3) Odd number upto n \n",
            "4) Prime number upto n \n",
            "5) Quit the program\n",
            " \n",
            "Choose your option: 4\n",
            " \n",
            " \n",
            "Find prime numbers upto : 97\n",
            "\n",
            "All prime numbers upto 97 are : \n",
            "97 Welcome to math program\n",
            "your options are:\n",
            " \n",
            "1) ODD or Even\n",
            "2) Factorial\n",
            "3) Odd number upto n \n",
            "4) Prime number upto n \n",
            "5) Quit the program\n",
            " \n",
            "Choose your option: 5\n",
            " \n",
            " \n",
            "Thank-you for using math program\n"
          ],
          "name": "stdout"
        }
      ]
    }
  ]
}